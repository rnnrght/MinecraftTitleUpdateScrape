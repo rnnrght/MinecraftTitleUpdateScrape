{
 "metadata": {
  "name": "",
  "signature": "sha256:39007bd352bcc55eb64cbca46c9d24f90bf9e653ad860ba8a2817e42fc4802ee"
 },
 "nbformat": 3,
 "nbformat_minor": 0,
 "worksheets": [
  {
   "cells": [
    {
     "cell_type": "code",
     "collapsed": false,
     "input": [
      "from bs4 import BeautifulSoup"
     ],
     "language": "python",
     "metadata": {},
     "outputs": [],
     "prompt_number": 1
    },
    {
     "cell_type": "code",
     "collapsed": false,
     "input": [
      "import requests"
     ],
     "language": "python",
     "metadata": {},
     "outputs": [],
     "prompt_number": 2
    },
    {
     "cell_type": "code",
     "collapsed": false,
     "input": [
      "from itertools import chain"
     ],
     "language": "python",
     "metadata": {},
     "outputs": [],
     "prompt_number": 3
    },
    {
     "cell_type": "code",
     "collapsed": false,
     "input": [
      "html = requests.get(\"http://minecraft.gamepedia.com/Console_Edition_version_history\")"
     ],
     "language": "python",
     "metadata": {},
     "outputs": [],
     "prompt_number": 4
    },
    {
     "cell_type": "code",
     "collapsed": false,
     "input": [
      "soup = BeautifulSoup(html.content)"
     ],
     "language": "python",
     "metadata": {},
     "outputs": [],
     "prompt_number": 5
    },
    {
     "cell_type": "code",
     "collapsed": true,
     "input": [
      "tables=soup.findAll(\"table\")"
     ],
     "language": "python",
     "metadata": {},
     "outputs": [],
     "prompt_number": 6
    },
    {
     "cell_type": "code",
     "collapsed": false,
     "input": [
      "versiontable=tables[2]"
     ],
     "language": "python",
     "metadata": {},
     "outputs": [],
     "prompt_number": 7
    },
    {
     "cell_type": "code",
     "collapsed": false,
     "input": [
      "latest=versiontable.findAll(\"td\")[0:3]"
     ],
     "language": "python",
     "metadata": {},
     "outputs": [],
     "prompt_number": 8
    },
    {
     "cell_type": "code",
     "collapsed": false,
     "input": [
      "for x in latest:\n",
      "    print(x.text)"
     ],
     "language": "python",
     "metadata": {},
     "outputs": [
      {
       "output_type": "stream",
       "stream": "stdout",
       "text": [
        "Xbox 360 - TU22\n",
        "\n",
        "Xbox One - CU10\n",
        "\n",
        "Xbox One - February 25, 2015\n",
        "\n",
        "Xbox 360 - February 27, 2015\n"
       ]
      }
     ],
     "prompt_number": 9
    },
    {
     "cell_type": "code",
     "collapsed": false,
     "input": [
      "latestlines=[x.text.split(\"\\n\") for x in latest]"
     ],
     "language": "python",
     "metadata": {},
     "outputs": [],
     "prompt_number": 10
    },
    {
     "cell_type": "code",
     "collapsed": false,
     "input": [
      "latestlines"
     ],
     "language": "python",
     "metadata": {},
     "outputs": [
      {
       "metadata": {},
       "output_type": "pyout",
       "prompt_number": 11,
       "text": [
        "[['Xbox 360 - TU22', '', 'Xbox One - CU10'],\n",
        " [''],\n",
        " ['Xbox One - February 25, 2015', '', 'Xbox 360 - February 27, 2015']]"
       ]
      }
     ],
     "prompt_number": 11
    },
    {
     "cell_type": "code",
     "collapsed": false,
     "input": [
      "xblines=[]\n",
      "for line in latestlines:\n",
      "    xblines.append(list(filter(lambda x: x.find(\"360\")>0, line)))"
     ],
     "language": "python",
     "metadata": {},
     "outputs": [],
     "prompt_number": 12
    },
    {
     "cell_type": "code",
     "collapsed": false,
     "input": [
      "xblines=[list(filter(lambda x: x.find(\"360\")>0, line)) for line in latestlines]"
     ],
     "language": "python",
     "metadata": {},
     "outputs": [],
     "prompt_number": 13
    },
    {
     "cell_type": "code",
     "collapsed": false,
     "input": [
      "xblines"
     ],
     "language": "python",
     "metadata": {},
     "outputs": [
      {
       "metadata": {},
       "output_type": "pyout",
       "prompt_number": 14,
       "text": [
        "[['Xbox 360 - TU22'], [], ['Xbox 360 - February 27, 2015']]"
       ]
      }
     ],
     "prompt_number": 14
    },
    {
     "cell_type": "code",
     "collapsed": false,
     "input": [
      "x=list(chain.from_iterable(xblines))"
     ],
     "language": "python",
     "metadata": {},
     "outputs": [],
     "prompt_number": 15
    },
    {
     "cell_type": "code",
     "collapsed": false,
     "input": [
      "x"
     ],
     "language": "python",
     "metadata": {},
     "outputs": [
      {
       "metadata": {},
       "output_type": "pyout",
       "prompt_number": 16,
       "text": [
        "['Xbox 360 - TU22', 'Xbox 360 - February 27, 2015']"
       ]
      }
     ],
     "prompt_number": 16
    },
    {
     "cell_type": "code",
     "collapsed": false,
     "input": [
      "import smtplib\n",
      "\n",
      "fromaddr = 'fact50@gmail.com'\n",
      "toaddrs  = 'fact50@gmail.com'\n",
      "msg = \"%s was released on %s\" % (x[0],x[1].split(\"-\")[1])\n",
      "\n",
      "# Credentials (if needed)\n",
      "username = 'fact50'\n",
      "password = ''\n",
      "\n",
      "# The actual mail send\n",
      "server = smtplib.SMTP('smtp.gmail.com:587')\n",
      "server.starttls()\n",
      "server.login(username,password)\n",
      "server.sendmail(fromaddr, toaddrs, msg)\n",
      "server.quit()"
     ],
     "language": "python",
     "metadata": {},
     "outputs": [
      {
       "metadata": {},
       "output_type": "pyout",
       "prompt_number": 17,
       "text": [
        "(221, b'2.0.0 closing connection f32sm9137749iod.30 - gsmtp')"
       ]
      }
     ],
     "prompt_number": 17
    },
    {
     "cell_type": "code",
     "collapsed": false,
     "input": [],
     "language": "python",
     "metadata": {},
     "outputs": []
    }
   ],
   "metadata": {}
  }
 ]
}